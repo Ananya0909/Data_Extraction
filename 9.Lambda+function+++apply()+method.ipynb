{
 "cells": [
  {
   "cell_type": "code",
   "execution_count": 1,
   "id": "6f179e1f",
   "metadata": {},
   "outputs": [],
   "source": [
    "import pandas as pd"
   ]
  },
  {
   "cell_type": "code",
   "execution_count": 2,
   "id": "ad07a021",
   "metadata": {},
   "outputs": [],
   "source": [
    "# reads csv file\n",
    "df = pd.read_csv('players_20.csv')\n",
    "# set index\n",
    "df.set_index('short_name', inplace=True)\n",
    "# select column\n",
    "df = df[['long_name', 'age', 'dob', 'height_cm', 'weight_kg', 'nationality', 'club']]"
   ]
  },
  {
   "cell_type": "code",
   "execution_count": 3,
   "id": "733e2174",
   "metadata": {},
   "outputs": [
    {
     "data": {
      "text/html": [
       "<div>\n",
       "<style scoped>\n",
       "    .dataframe tbody tr th:only-of-type {\n",
       "        vertical-align: middle;\n",
       "    }\n",
       "\n",
       "    .dataframe tbody tr th {\n",
       "        vertical-align: top;\n",
       "    }\n",
       "\n",
       "    .dataframe thead th {\n",
       "        text-align: right;\n",
       "    }\n",
       "</style>\n",
       "<table border=\"1\" class=\"dataframe\">\n",
       "  <thead>\n",
       "    <tr style=\"text-align: right;\">\n",
       "      <th></th>\n",
       "      <th>long_name</th>\n",
       "      <th>age</th>\n",
       "      <th>dob</th>\n",
       "      <th>height_cm</th>\n",
       "      <th>weight_kg</th>\n",
       "      <th>nationality</th>\n",
       "      <th>club</th>\n",
       "    </tr>\n",
       "    <tr>\n",
       "      <th>short_name</th>\n",
       "      <th></th>\n",
       "      <th></th>\n",
       "      <th></th>\n",
       "      <th></th>\n",
       "      <th></th>\n",
       "      <th></th>\n",
       "      <th></th>\n",
       "    </tr>\n",
       "  </thead>\n",
       "  <tbody>\n",
       "    <tr>\n",
       "      <th>L. Messi</th>\n",
       "      <td>Lionel Andrés Messi Cuccittini</td>\n",
       "      <td>32</td>\n",
       "      <td>1987-06-24</td>\n",
       "      <td>170</td>\n",
       "      <td>72</td>\n",
       "      <td>Argentina</td>\n",
       "      <td>FC Barcelona</td>\n",
       "    </tr>\n",
       "    <tr>\n",
       "      <th>Cristiano Ronaldo</th>\n",
       "      <td>Cristiano Ronaldo dos Santos Aveiro</td>\n",
       "      <td>34</td>\n",
       "      <td>1985-02-05</td>\n",
       "      <td>187</td>\n",
       "      <td>83</td>\n",
       "      <td>Portugal</td>\n",
       "      <td>Juventus</td>\n",
       "    </tr>\n",
       "    <tr>\n",
       "      <th>Neymar Jr</th>\n",
       "      <td>Neymar da Silva Santos Junior</td>\n",
       "      <td>27</td>\n",
       "      <td>1992-02-05</td>\n",
       "      <td>175</td>\n",
       "      <td>68</td>\n",
       "      <td>Brazil</td>\n",
       "      <td>Paris Saint-Germain</td>\n",
       "    </tr>\n",
       "    <tr>\n",
       "      <th>J. Oblak</th>\n",
       "      <td>Jan Oblak</td>\n",
       "      <td>26</td>\n",
       "      <td>1993-01-07</td>\n",
       "      <td>188</td>\n",
       "      <td>87</td>\n",
       "      <td>Slovenia</td>\n",
       "      <td>Atlético Madrid</td>\n",
       "    </tr>\n",
       "    <tr>\n",
       "      <th>E. Hazard</th>\n",
       "      <td>Eden Hazard</td>\n",
       "      <td>28</td>\n",
       "      <td>1991-01-07</td>\n",
       "      <td>175</td>\n",
       "      <td>74</td>\n",
       "      <td>Belgium</td>\n",
       "      <td>Real Madrid</td>\n",
       "    </tr>\n",
       "    <tr>\n",
       "      <th>...</th>\n",
       "      <td>...</td>\n",
       "      <td>...</td>\n",
       "      <td>...</td>\n",
       "      <td>...</td>\n",
       "      <td>...</td>\n",
       "      <td>...</td>\n",
       "      <td>...</td>\n",
       "    </tr>\n",
       "    <tr>\n",
       "      <th>Shao Shuai</th>\n",
       "      <td>邵帅</td>\n",
       "      <td>22</td>\n",
       "      <td>1997-03-10</td>\n",
       "      <td>186</td>\n",
       "      <td>79</td>\n",
       "      <td>China PR</td>\n",
       "      <td>Beijing Renhe FC</td>\n",
       "    </tr>\n",
       "    <tr>\n",
       "      <th>Xiao Mingjie</th>\n",
       "      <td>Mingjie Xiao</td>\n",
       "      <td>22</td>\n",
       "      <td>1997-01-01</td>\n",
       "      <td>177</td>\n",
       "      <td>66</td>\n",
       "      <td>China PR</td>\n",
       "      <td>Shanghai SIPG FC</td>\n",
       "    </tr>\n",
       "    <tr>\n",
       "      <th>Zhang Wei</th>\n",
       "      <td>张威</td>\n",
       "      <td>19</td>\n",
       "      <td>2000-05-16</td>\n",
       "      <td>186</td>\n",
       "      <td>75</td>\n",
       "      <td>China PR</td>\n",
       "      <td>Hebei China Fortune FC</td>\n",
       "    </tr>\n",
       "    <tr>\n",
       "      <th>Wang Haijian</th>\n",
       "      <td>汪海健</td>\n",
       "      <td>18</td>\n",
       "      <td>2000-08-02</td>\n",
       "      <td>185</td>\n",
       "      <td>74</td>\n",
       "      <td>China PR</td>\n",
       "      <td>Shanghai Greenland Shenhua FC</td>\n",
       "    </tr>\n",
       "    <tr>\n",
       "      <th>Pan Ximing</th>\n",
       "      <td>潘喜明</td>\n",
       "      <td>26</td>\n",
       "      <td>1993-01-11</td>\n",
       "      <td>182</td>\n",
       "      <td>78</td>\n",
       "      <td>China PR</td>\n",
       "      <td>Hebei China Fortune FC</td>\n",
       "    </tr>\n",
       "  </tbody>\n",
       "</table>\n",
       "<p>18278 rows × 7 columns</p>\n",
       "</div>"
      ],
      "text/plain": [
       "                                             long_name  age         dob  \\\n",
       "short_name                                                                \n",
       "L. Messi                Lionel Andrés Messi Cuccittini   32  1987-06-24   \n",
       "Cristiano Ronaldo  Cristiano Ronaldo dos Santos Aveiro   34  1985-02-05   \n",
       "Neymar Jr                Neymar da Silva Santos Junior   27  1992-02-05   \n",
       "J. Oblak                                     Jan Oblak   26  1993-01-07   \n",
       "E. Hazard                                  Eden Hazard   28  1991-01-07   \n",
       "...                                                ...  ...         ...   \n",
       "Shao Shuai                                          邵帅   22  1997-03-10   \n",
       "Xiao Mingjie                              Mingjie Xiao   22  1997-01-01   \n",
       "Zhang Wei                                           张威   19  2000-05-16   \n",
       "Wang Haijian                                       汪海健   18  2000-08-02   \n",
       "Pan Ximing                                         潘喜明   26  1993-01-11   \n",
       "\n",
       "                   height_cm  weight_kg nationality  \\\n",
       "short_name                                            \n",
       "L. Messi                 170         72   Argentina   \n",
       "Cristiano Ronaldo        187         83    Portugal   \n",
       "Neymar Jr                175         68      Brazil   \n",
       "J. Oblak                 188         87    Slovenia   \n",
       "E. Hazard                175         74     Belgium   \n",
       "...                      ...        ...         ...   \n",
       "Shao Shuai               186         79    China PR   \n",
       "Xiao Mingjie             177         66    China PR   \n",
       "Zhang Wei                186         75    China PR   \n",
       "Wang Haijian             185         74    China PR   \n",
       "Pan Ximing               182         78    China PR   \n",
       "\n",
       "                                            club  \n",
       "short_name                                        \n",
       "L. Messi                            FC Barcelona  \n",
       "Cristiano Ronaldo                       Juventus  \n",
       "Neymar Jr                    Paris Saint-Germain  \n",
       "J. Oblak                         Atlético Madrid  \n",
       "E. Hazard                            Real Madrid  \n",
       "...                                          ...  \n",
       "Shao Shuai                      Beijing Renhe FC  \n",
       "Xiao Mingjie                    Shanghai SIPG FC  \n",
       "Zhang Wei                 Hebei China Fortune FC  \n",
       "Wang Haijian       Shanghai Greenland Shenhua FC  \n",
       "Pan Ximing                Hebei China Fortune FC  \n",
       "\n",
       "[18278 rows x 7 columns]"
      ]
     },
     "execution_count": 3,
     "metadata": {},
     "output_type": "execute_result"
    }
   ],
   "source": [
    "# show dataframe\n",
    "df"
   ]
  },
  {
   "cell_type": "markdown",
   "id": "a45f187e",
   "metadata": {},
   "source": [
    "# Lambda function"
   ]
  },
  {
   "cell_type": "code",
   "execution_count": 4,
   "id": "5d0ec1a1",
   "metadata": {},
   "outputs": [],
   "source": [
    "# basic function\n",
    "def sum_values(a, b):\n",
    "    x = a + b\n",
    "    return x"
   ]
  },
  {
   "cell_type": "code",
   "execution_count": 5,
   "id": "a740350c",
   "metadata": {},
   "outputs": [
    {
     "data": {
      "text/plain": [
       "5"
      ]
     },
     "execution_count": 5,
     "metadata": {},
     "output_type": "execute_result"
    }
   ],
   "source": [
    "sum_values(2,3)"
   ]
  },
  {
   "cell_type": "code",
   "execution_count": 6,
   "id": "f122af1e",
   "metadata": {},
   "outputs": [],
   "source": [
    "# lambda function (one liner)\n",
    "sum_values_lambda = lambda a, b: a+b"
   ]
  },
  {
   "cell_type": "code",
   "execution_count": 7,
   "id": "36f0d359",
   "metadata": {},
   "outputs": [
    {
     "data": {
      "text/plain": [
       "5"
      ]
     },
     "execution_count": 7,
     "metadata": {},
     "output_type": "execute_result"
    }
   ],
   "source": [
    "sum_values(2,3)"
   ]
  },
  {
   "cell_type": "markdown",
   "id": "e4cacf7d",
   "metadata": {},
   "source": [
    "# Apply + Lambda Function"
   ]
  },
  {
   "cell_type": "code",
   "execution_count": 8,
   "id": "4034f76e",
   "metadata": {},
   "outputs": [
    {
     "data": {
      "text/plain": [
       "short_name\n",
       "L. Messi             1.70\n",
       "Cristiano Ronaldo    1.87\n",
       "Neymar Jr            1.75\n",
       "J. Oblak             1.88\n",
       "E. Hazard            1.75\n",
       "                     ... \n",
       "Shao Shuai           1.86\n",
       "Xiao Mingjie         1.77\n",
       "Zhang Wei            1.86\n",
       "Wang Haijian         1.85\n",
       "Pan Ximing           1.82\n",
       "Name: height_cm, Length: 18278, dtype: float64"
      ]
     },
     "execution_count": 8,
     "metadata": {},
     "output_type": "execute_result"
    }
   ],
   "source": [
    "# use lambda function to convert \"height_cm\" series to meters\n",
    "df['height_cm'].apply(lambda x:x/100)\n",
    "\n",
    "# alternative\n",
    "# df['height_cm']/100"
   ]
  },
  {
   "cell_type": "code",
   "execution_count": 9,
   "id": "ecc7fdfa",
   "metadata": {},
   "outputs": [
    {
     "data": {
      "text/plain": [
       "short_name\n",
       "L. Messi                  LIONEL ANDRÉS MESSI CUCCITTINI\n",
       "Cristiano Ronaldo    CRISTIANO RONALDO DOS SANTOS AVEIRO\n",
       "Neymar Jr                  NEYMAR DA SILVA SANTOS JUNIOR\n",
       "J. Oblak                                       JAN OBLAK\n",
       "E. Hazard                                    EDEN HAZARD\n",
       "                                    ...                 \n",
       "Shao Shuai                                            邵帅\n",
       "Xiao Mingjie                                MINGJIE XIAO\n",
       "Zhang Wei                                             张威\n",
       "Wang Haijian                                         汪海健\n",
       "Pan Ximing                                           潘喜明\n",
       "Name: long_name, Length: 18278, dtype: object"
      ]
     },
     "execution_count": 9,
     "metadata": {},
     "output_type": "execute_result"
    }
   ],
   "source": [
    "# use lambda function to convert \"long_name\" series to upper case\n",
    "df['long_name'].apply(lambda x:x.upper())\n",
    "\n",
    "# alternative with str attribute\n",
    "# df['long_name'].str.upper()"
   ]
  },
  {
   "cell_type": "code",
   "execution_count": 10,
   "id": "4daf5cf5",
   "metadata": {},
   "outputs": [
    {
     "data": {
      "text/plain": [
       "short_name\n",
       "L. Messi             1987\n",
       "Cristiano Ronaldo    1985\n",
       "Neymar Jr            1992\n",
       "J. Oblak             1993\n",
       "E. Hazard            1991\n",
       "                     ... \n",
       "Shao Shuai           1997\n",
       "Xiao Mingjie         1997\n",
       "Zhang Wei            2000\n",
       "Wang Haijian         2000\n",
       "Pan Ximing           1993\n",
       "Name: dob, Length: 18278, dtype: int64"
      ]
     },
     "execution_count": 10,
     "metadata": {},
     "output_type": "execute_result"
    }
   ],
   "source": [
    "df['dob'] = df['dob'].astype('datetime64')\n",
    "\n",
    "# use lambda function to get the year or \"dob\" series\n",
    "df['dob'].apply(lambda x:x.year)\n",
    "\n",
    "# alternative wirh dt attribute\n",
    "# df['dob'].dt.year"
   ]
  },
  {
   "cell_type": "code",
   "execution_count": 11,
   "id": "77b652ac",
   "metadata": {},
   "outputs": [
    {
     "data": {
      "text/plain": [
       "short_name\n",
       "L. Messi             24.913495\n",
       "Cristiano Ronaldo    23.735308\n",
       "Neymar Jr            22.204082\n",
       "J. Oblak             24.615211\n",
       "E. Hazard            24.163265\n",
       "                       ...    \n",
       "Shao Shuai           22.835010\n",
       "Xiao Mingjie         21.066743\n",
       "Zhang Wei            21.678807\n",
       "Wang Haijian         21.621622\n",
       "Pan Ximing           23.547881\n",
       "Length: 18278, dtype: float64"
      ]
     },
     "execution_count": 11,
     "metadata": {},
     "output_type": "execute_result"
    }
   ],
   "source": [
    "# apply lambda function to dataframe in order to calculate bmi\n",
    "df.apply(lambda x: x['weight_kg']/((x['height_cm']/100)**2), axis=1)"
   ]
  }
 ],
 "metadata": {
  "kernelspec": {
   "display_name": "Python 3",
   "language": "python",
   "name": "python3"
  },
  "language_info": {
   "codemirror_mode": {
    "name": "ipython",
    "version": 3
   },
   "file_extension": ".py",
   "mimetype": "text/x-python",
   "name": "python",
   "nbconvert_exporter": "python",
   "pygments_lexer": "ipython3",
   "version": "3.8.8"
  },
  "toc": {
   "base_numbering": 1,
   "nav_menu": {},
   "number_sections": true,
   "sideBar": true,
   "skip_h1_title": false,
   "title_cell": "Table of Contents",
   "title_sidebar": "Contents",
   "toc_cell": false,
   "toc_position": {},
   "toc_section_display": true,
   "toc_window_display": false
  }
 },
 "nbformat": 4,
 "nbformat_minor": 5
}
